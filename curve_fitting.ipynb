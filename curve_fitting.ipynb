{
 "cells": [
  {
   "cell_type": "markdown",
   "metadata": {},
   "source": [
    "## Curve fitting\n",
    "We have a regression problem on a time series with multiple dimensions. Given the nature of this problem (other stock prediction models) the best approach might be a seq2seq model. <br>\n",
    "**Advantages**\n",
    "<il>\n",
    "<ol>Big amounts of data/ </ol>\n",
    "<ol>Not a lot of features, but they seem to be descriptive. </ol>\n",
    "<ol>Antecedents are succesful .. **on datasets tough** </ol>\n",
    "</il>\n",
    "\n",
    "**Disadvantages**\n",
    "<il>\n",
    "<ol>Not enough dimensions for a serious model.</ol>\n",
    "<ol>High non-linearities in small gaps of time. </ol>\n",
    "<ol>Smoothing migth look good, but we need to predict in small gaps of time.</ol>\n",
    "<ol>MSE is a good metric?</ol>\n",
    "</il>\n"
   ]
  },
  {
   "cell_type": "code",
   "execution_count": null,
   "metadata": {
    "collapsed": true
   },
   "outputs": [],
   "source": []
  },
  {
   "cell_type": "code",
   "execution_count": 1,
   "metadata": {
    "collapsed": true
   },
   "outputs": [],
   "source": [
    "# Libraries\n",
    "import os\n",
    "import sys\n",
    "# Data manipulation\n",
    "import numpy as np\n",
    "import pandas as pd\n",
    "import matplotlib.pyplot as plt\n",
    "# ML stuff\n",
    "#import tensorflow as tf"
   ]
  },
  {
   "cell_type": "markdown",
   "metadata": {},
   "source": [
    "## 1. Data wrangling"
   ]
  },
  {
   "cell_type": "markdown",
   "metadata": {},
   "source": [
    "### Get data"
   ]
  },
  {
   "cell_type": "code",
   "execution_count": 2,
   "metadata": {},
   "outputs": [],
   "source": [
    "df_raw = pd.read_excel(\"data/data_reduced_datetime_processed.xlsx\")"
   ]
  },
  {
   "cell_type": "code",
   "execution_count": 3,
   "metadata": {},
   "outputs": [
    {
     "data": {
      "text/html": [
       "<div>\n",
       "<style>\n",
       "    .dataframe thead tr:only-child th {\n",
       "        text-align: right;\n",
       "    }\n",
       "\n",
       "    .dataframe thead th {\n",
       "        text-align: left;\n",
       "    }\n",
       "\n",
       "    .dataframe tbody tr th {\n",
       "        vertical-align: top;\n",
       "    }\n",
       "</style>\n",
       "<table border=\"1\" class=\"dataframe\">\n",
       "  <thead>\n",
       "    <tr style=\"text-align: right;\">\n",
       "      <th></th>\n",
       "      <th>Close</th>\n",
       "      <th>High</th>\n",
       "      <th>Low</th>\n",
       "      <th>Open</th>\n",
       "      <th>Volume_(BTC)</th>\n",
       "      <th>Volume_(Currency)</th>\n",
       "      <th>Weighted_Price</th>\n",
       "      <th>day</th>\n",
       "      <th>hour</th>\n",
       "      <th>minute</th>\n",
       "      <th>month</th>\n",
       "      <th>year</th>\n",
       "    </tr>\n",
       "  </thead>\n",
       "  <tbody>\n",
       "    <tr>\n",
       "      <th>0</th>\n",
       "      <td>4.39</td>\n",
       "      <td>4.39</td>\n",
       "      <td>4.39</td>\n",
       "      <td>4.39</td>\n",
       "      <td>0.455581</td>\n",
       "      <td>2.0</td>\n",
       "      <td>4.39</td>\n",
       "      <td>31</td>\n",
       "      <td>3</td>\n",
       "      <td>52</td>\n",
       "      <td>12</td>\n",
       "      <td>2011</td>\n",
       "    </tr>\n",
       "    <tr>\n",
       "      <th>1</th>\n",
       "      <td>4.39</td>\n",
       "      <td>4.39</td>\n",
       "      <td>4.39</td>\n",
       "      <td>4.39</td>\n",
       "      <td>0.455581</td>\n",
       "      <td>2.0</td>\n",
       "      <td>4.39</td>\n",
       "      <td>31</td>\n",
       "      <td>4</td>\n",
       "      <td>22</td>\n",
       "      <td>12</td>\n",
       "      <td>2011</td>\n",
       "    </tr>\n",
       "    <tr>\n",
       "      <th>2</th>\n",
       "      <td>4.39</td>\n",
       "      <td>4.39</td>\n",
       "      <td>4.39</td>\n",
       "      <td>4.39</td>\n",
       "      <td>0.455581</td>\n",
       "      <td>2.0</td>\n",
       "      <td>4.39</td>\n",
       "      <td>31</td>\n",
       "      <td>4</td>\n",
       "      <td>52</td>\n",
       "      <td>12</td>\n",
       "      <td>2011</td>\n",
       "    </tr>\n",
       "    <tr>\n",
       "      <th>3</th>\n",
       "      <td>4.39</td>\n",
       "      <td>4.39</td>\n",
       "      <td>4.39</td>\n",
       "      <td>4.39</td>\n",
       "      <td>0.455581</td>\n",
       "      <td>2.0</td>\n",
       "      <td>4.39</td>\n",
       "      <td>31</td>\n",
       "      <td>5</td>\n",
       "      <td>22</td>\n",
       "      <td>12</td>\n",
       "      <td>2011</td>\n",
       "    </tr>\n",
       "    <tr>\n",
       "      <th>4</th>\n",
       "      <td>4.39</td>\n",
       "      <td>4.39</td>\n",
       "      <td>4.39</td>\n",
       "      <td>4.39</td>\n",
       "      <td>0.455581</td>\n",
       "      <td>2.0</td>\n",
       "      <td>4.39</td>\n",
       "      <td>31</td>\n",
       "      <td>5</td>\n",
       "      <td>52</td>\n",
       "      <td>12</td>\n",
       "      <td>2011</td>\n",
       "    </tr>\n",
       "  </tbody>\n",
       "</table>\n",
       "</div>"
      ],
      "text/plain": [
       "   Close  High   Low  Open  Volume_(BTC)  Volume_(Currency)  Weighted_Price  \\\n",
       "0   4.39  4.39  4.39  4.39      0.455581                2.0            4.39   \n",
       "1   4.39  4.39  4.39  4.39      0.455581                2.0            4.39   \n",
       "2   4.39  4.39  4.39  4.39      0.455581                2.0            4.39   \n",
       "3   4.39  4.39  4.39  4.39      0.455581                2.0            4.39   \n",
       "4   4.39  4.39  4.39  4.39      0.455581                2.0            4.39   \n",
       "\n",
       "   day  hour  minute  month  year  \n",
       "0   31     3      52     12  2011  \n",
       "1   31     4      22     12  2011  \n",
       "2   31     4      52     12  2011  \n",
       "3   31     5      22     12  2011  \n",
       "4   31     5      52     12  2011  "
      ]
     },
     "execution_count": 3,
     "metadata": {},
     "output_type": "execute_result"
    }
   ],
   "source": [
    "df_raw.head()"
   ]
  },
  {
   "cell_type": "markdown",
   "metadata": {},
   "source": [
    "### Clean data\n",
    "Nan values were cleared in the re-sampling notebook. So, the data is free of outliers."
   ]
  },
  {
   "cell_type": "code",
   "execution_count": 4,
   "metadata": {},
   "outputs": [
    {
     "name": "stdout",
     "output_type": "stream",
     "text": [
      "(101529, 4)\n"
     ]
    },
    {
     "data": {
      "text/html": [
       "<div>\n",
       "<style>\n",
       "    .dataframe thead tr:only-child th {\n",
       "        text-align: right;\n",
       "    }\n",
       "\n",
       "    .dataframe thead th {\n",
       "        text-align: left;\n",
       "    }\n",
       "\n",
       "    .dataframe tbody tr th {\n",
       "        vertical-align: top;\n",
       "    }\n",
       "</style>\n",
       "<table border=\"1\" class=\"dataframe\">\n",
       "  <thead>\n",
       "    <tr style=\"text-align: right;\">\n",
       "      <th></th>\n",
       "      <th>Volume_(BTC)</th>\n",
       "      <th>Volume_(Currency)</th>\n",
       "      <th>Weighted_Price</th>\n",
       "      <th>year</th>\n",
       "    </tr>\n",
       "  </thead>\n",
       "  <tbody>\n",
       "    <tr>\n",
       "      <th>0</th>\n",
       "      <td>0.455581</td>\n",
       "      <td>2.0</td>\n",
       "      <td>4.39</td>\n",
       "      <td>2011</td>\n",
       "    </tr>\n",
       "    <tr>\n",
       "      <th>1</th>\n",
       "      <td>0.455581</td>\n",
       "      <td>2.0</td>\n",
       "      <td>4.39</td>\n",
       "      <td>2011</td>\n",
       "    </tr>\n",
       "    <tr>\n",
       "      <th>2</th>\n",
       "      <td>0.455581</td>\n",
       "      <td>2.0</td>\n",
       "      <td>4.39</td>\n",
       "      <td>2011</td>\n",
       "    </tr>\n",
       "    <tr>\n",
       "      <th>3</th>\n",
       "      <td>0.455581</td>\n",
       "      <td>2.0</td>\n",
       "      <td>4.39</td>\n",
       "      <td>2011</td>\n",
       "    </tr>\n",
       "    <tr>\n",
       "      <th>4</th>\n",
       "      <td>0.455581</td>\n",
       "      <td>2.0</td>\n",
       "      <td>4.39</td>\n",
       "      <td>2011</td>\n",
       "    </tr>\n",
       "  </tbody>\n",
       "</table>\n",
       "</div>"
      ],
      "text/plain": [
       "   Volume_(BTC)  Volume_(Currency)  Weighted_Price  year\n",
       "0      0.455581                2.0            4.39  2011\n",
       "1      0.455581                2.0            4.39  2011\n",
       "2      0.455581                2.0            4.39  2011\n",
       "3      0.455581                2.0            4.39  2011\n",
       "4      0.455581                2.0            4.39  2011"
      ]
     },
     "execution_count": 4,
     "metadata": {},
     "output_type": "execute_result"
    }
   ],
   "source": [
    "# Get only useful features\n",
    "df = df_raw.drop([\"Open\", \"Close\", \"High\", \"Low\", \"day\", \"hour\", \"minute\", \"month\"], axis = 1)\n",
    "print(df.shape)\n",
    "df.head()"
   ]
  },
  {
   "cell_type": "code",
   "execution_count": 23,
   "metadata": {},
   "outputs": [
    {
     "data": {
      "text/html": [
       "<div>\n",
       "<style>\n",
       "    .dataframe thead tr:only-child th {\n",
       "        text-align: right;\n",
       "    }\n",
       "\n",
       "    .dataframe thead th {\n",
       "        text-align: left;\n",
       "    }\n",
       "\n",
       "    .dataframe tbody tr th {\n",
       "        vertical-align: top;\n",
       "    }\n",
       "</style>\n",
       "<table border=\"1\" class=\"dataframe\">\n",
       "  <thead>\n",
       "    <tr style=\"text-align: right;\">\n",
       "      <th></th>\n",
       "      <th>Volume_(BTC)</th>\n",
       "      <th>Volume_(Currency)</th>\n",
       "      <th>Weighted_Price</th>\n",
       "      <th>year</th>\n",
       "    </tr>\n",
       "  </thead>\n",
       "  <tbody>\n",
       "    <tr>\n",
       "      <th>count</th>\n",
       "      <td>101529.000000</td>\n",
       "      <td>1.015290e+05</td>\n",
       "      <td>101529.000000</td>\n",
       "      <td>101529.000000</td>\n",
       "    </tr>\n",
       "    <tr>\n",
       "      <th>mean</th>\n",
       "      <td>11.166317</td>\n",
       "      <td>5.493279e+03</td>\n",
       "      <td>589.201456</td>\n",
       "      <td>2014.410572</td>\n",
       "    </tr>\n",
       "    <tr>\n",
       "      <th>std</th>\n",
       "      <td>35.605275</td>\n",
       "      <td>2.426520e+04</td>\n",
       "      <td>882.907430</td>\n",
       "      <td>1.674544</td>\n",
       "    </tr>\n",
       "    <tr>\n",
       "      <th>min</th>\n",
       "      <td>0.000000</td>\n",
       "      <td>0.000000e+00</td>\n",
       "      <td>4.140000</td>\n",
       "      <td>2011.000000</td>\n",
       "    </tr>\n",
       "    <tr>\n",
       "      <th>25%</th>\n",
       "      <td>0.426050</td>\n",
       "      <td>6.224937e+01</td>\n",
       "      <td>101.340000</td>\n",
       "      <td>2013.000000</td>\n",
       "    </tr>\n",
       "    <tr>\n",
       "      <th>50%</th>\n",
       "      <td>2.000000</td>\n",
       "      <td>3.212688e+02</td>\n",
       "      <td>362.430000</td>\n",
       "      <td>2014.000000</td>\n",
       "    </tr>\n",
       "    <tr>\n",
       "      <th>75%</th>\n",
       "      <td>8.579310</td>\n",
       "      <td>2.104505e+03</td>\n",
       "      <td>631.878839</td>\n",
       "      <td>2016.000000</td>\n",
       "    </tr>\n",
       "    <tr>\n",
       "      <th>max</th>\n",
       "      <td>2251.989096</td>\n",
       "      <td>1.234686e+06</td>\n",
       "      <td>5845.752399</td>\n",
       "      <td>2017.000000</td>\n",
       "    </tr>\n",
       "  </tbody>\n",
       "</table>\n",
       "</div>"
      ],
      "text/plain": [
       "        Volume_(BTC)  Volume_(Currency)  Weighted_Price           year\n",
       "count  101529.000000       1.015290e+05   101529.000000  101529.000000\n",
       "mean       11.166317       5.493279e+03      589.201456    2014.410572\n",
       "std        35.605275       2.426520e+04      882.907430       1.674544\n",
       "min         0.000000       0.000000e+00        4.140000    2011.000000\n",
       "25%         0.426050       6.224937e+01      101.340000    2013.000000\n",
       "50%         2.000000       3.212688e+02      362.430000    2014.000000\n",
       "75%         8.579310       2.104505e+03      631.878839    2016.000000\n",
       "max      2251.989096       1.234686e+06     5845.752399    2017.000000"
      ]
     },
     "execution_count": 23,
     "metadata": {},
     "output_type": "execute_result"
    }
   ],
   "source": [
    "# Data is not normalized\n",
    "df.describe()"
   ]
  },
  {
   "cell_type": "code",
   "execution_count": 5,
   "metadata": {},
   "outputs": [
    {
     "data": {
      "text/html": [
       "<div>\n",
       "<style>\n",
       "    .dataframe thead tr:only-child th {\n",
       "        text-align: right;\n",
       "    }\n",
       "\n",
       "    .dataframe thead th {\n",
       "        text-align: left;\n",
       "    }\n",
       "\n",
       "    .dataframe tbody tr th {\n",
       "        vertical-align: top;\n",
       "    }\n",
       "</style>\n",
       "<table border=\"1\" class=\"dataframe\">\n",
       "  <thead>\n",
       "    <tr style=\"text-align: right;\">\n",
       "      <th></th>\n",
       "      <th>Volume_(BTC)</th>\n",
       "      <th>Volume_(Currency)</th>\n",
       "      <th>Weighted_Price</th>\n",
       "      <th>year</th>\n",
       "    </tr>\n",
       "  </thead>\n",
       "  <tbody>\n",
       "    <tr>\n",
       "      <th>count</th>\n",
       "      <td>1.015290e+05</td>\n",
       "      <td>1.015290e+05</td>\n",
       "      <td>1.015290e+05</td>\n",
       "      <td>101529.000000</td>\n",
       "    </tr>\n",
       "    <tr>\n",
       "      <th>mean</th>\n",
       "      <td>-2.715388e-17</td>\n",
       "      <td>8.957980e-18</td>\n",
       "      <td>1.254117e-16</td>\n",
       "      <td>2014.410572</td>\n",
       "    </tr>\n",
       "    <tr>\n",
       "      <th>std</th>\n",
       "      <td>1.000000e+00</td>\n",
       "      <td>1.000000e+00</td>\n",
       "      <td>1.000000e+00</td>\n",
       "      <td>1.674544</td>\n",
       "    </tr>\n",
       "    <tr>\n",
       "      <th>min</th>\n",
       "      <td>-3.136141e-01</td>\n",
       "      <td>-2.263851e-01</td>\n",
       "      <td>-6.626532e-01</td>\n",
       "      <td>2011.000000</td>\n",
       "    </tr>\n",
       "    <tr>\n",
       "      <th>25%</th>\n",
       "      <td>-3.016482e-01</td>\n",
       "      <td>-2.238197e-01</td>\n",
       "      <td>-5.525624e-01</td>\n",
       "      <td>2013.000000</td>\n",
       "    </tr>\n",
       "    <tr>\n",
       "      <th>50%</th>\n",
       "      <td>-2.574427e-01</td>\n",
       "      <td>-2.131452e-01</td>\n",
       "      <td>-2.568462e-01</td>\n",
       "      <td>2014.000000</td>\n",
       "    </tr>\n",
       "    <tr>\n",
       "      <th>75%</th>\n",
       "      <td>-7.265797e-02</td>\n",
       "      <td>-1.396558e-01</td>\n",
       "      <td>4.833732e-02</td>\n",
       "      <td>2016.000000</td>\n",
       "    </tr>\n",
       "    <tr>\n",
       "      <th>max</th>\n",
       "      <td>6.293514e+01</td>\n",
       "      <td>5.065660e+01</td>\n",
       "      <td>5.953683e+00</td>\n",
       "      <td>2017.000000</td>\n",
       "    </tr>\n",
       "  </tbody>\n",
       "</table>\n",
       "</div>"
      ],
      "text/plain": [
       "       Volume_(BTC)  Volume_(Currency)  Weighted_Price           year\n",
       "count  1.015290e+05       1.015290e+05    1.015290e+05  101529.000000\n",
       "mean  -2.715388e-17       8.957980e-18    1.254117e-16    2014.410572\n",
       "std    1.000000e+00       1.000000e+00    1.000000e+00       1.674544\n",
       "min   -3.136141e-01      -2.263851e-01   -6.626532e-01    2011.000000\n",
       "25%   -3.016482e-01      -2.238197e-01   -5.525624e-01    2013.000000\n",
       "50%   -2.574427e-01      -2.131452e-01   -2.568462e-01    2014.000000\n",
       "75%   -7.265797e-02      -1.396558e-01    4.833732e-02    2016.000000\n",
       "max    6.293514e+01       5.065660e+01    5.953683e+00    2017.000000"
      ]
     },
     "execution_count": 5,
     "metadata": {},
     "output_type": "execute_result"
    }
   ],
   "source": [
    "# Mean normalization\n",
    "for feature in df.drop([\"year\"], axis = 1).columns:\n",
    "    df[feature] = (df[feature] - df[feature].mean()) / df[feature].std() \n",
    "df.describe()"
   ]
  },
  {
   "cell_type": "code",
   "execution_count": 6,
   "metadata": {},
   "outputs": [
    {
     "name": "stdout",
     "output_type": "stream",
     "text": [
      "Year values before catg:  [2011 2012 2013 2014 2015 2016 2017]\n",
      "Year values after catg [0 1 2 3 4 5 6]\n"
     ]
    }
   ],
   "source": [
    "# Categorize year\n",
    "print(\"Year values before catg: \", df[\"year\"].unique())\n",
    "df[\"year\"] = df[\"year\"].map({2011: 0, 2012: 1, 2013: 2, 2014: 3, 2015: 4, 2016: 5, 2017: 6})\n",
    "print(\"Year values after catg\", df[\"year\"].unique())"
   ]
  },
  {
   "cell_type": "code",
   "execution_count": 7,
   "metadata": {},
   "outputs": [
    {
     "data": {
      "text/html": [
       "<div>\n",
       "<style>\n",
       "    .dataframe thead tr:only-child th {\n",
       "        text-align: right;\n",
       "    }\n",
       "\n",
       "    .dataframe thead th {\n",
       "        text-align: left;\n",
       "    }\n",
       "\n",
       "    .dataframe tbody tr th {\n",
       "        vertical-align: top;\n",
       "    }\n",
       "</style>\n",
       "<table border=\"1\" class=\"dataframe\">\n",
       "  <thead>\n",
       "    <tr style=\"text-align: right;\">\n",
       "      <th></th>\n",
       "      <th>Volume_(BTC)</th>\n",
       "      <th>Volume_(Currency)</th>\n",
       "      <th>Weighted_Price</th>\n",
       "      <th>year</th>\n",
       "    </tr>\n",
       "  </thead>\n",
       "  <tbody>\n",
       "    <tr>\n",
       "      <th>0</th>\n",
       "      <td>-0.300819</td>\n",
       "      <td>-0.226303</td>\n",
       "      <td>-0.66237</td>\n",
       "      <td>0</td>\n",
       "    </tr>\n",
       "    <tr>\n",
       "      <th>1</th>\n",
       "      <td>-0.300819</td>\n",
       "      <td>-0.226303</td>\n",
       "      <td>-0.66237</td>\n",
       "      <td>0</td>\n",
       "    </tr>\n",
       "    <tr>\n",
       "      <th>2</th>\n",
       "      <td>-0.300819</td>\n",
       "      <td>-0.226303</td>\n",
       "      <td>-0.66237</td>\n",
       "      <td>0</td>\n",
       "    </tr>\n",
       "    <tr>\n",
       "      <th>3</th>\n",
       "      <td>-0.300819</td>\n",
       "      <td>-0.226303</td>\n",
       "      <td>-0.66237</td>\n",
       "      <td>0</td>\n",
       "    </tr>\n",
       "    <tr>\n",
       "      <th>4</th>\n",
       "      <td>-0.300819</td>\n",
       "      <td>-0.226303</td>\n",
       "      <td>-0.66237</td>\n",
       "      <td>0</td>\n",
       "    </tr>\n",
       "  </tbody>\n",
       "</table>\n",
       "</div>"
      ],
      "text/plain": [
       "   Volume_(BTC)  Volume_(Currency)  Weighted_Price  year\n",
       "0     -0.300819          -0.226303        -0.66237     0\n",
       "1     -0.300819          -0.226303        -0.66237     0\n",
       "2     -0.300819          -0.226303        -0.66237     0\n",
       "3     -0.300819          -0.226303        -0.66237     0\n",
       "4     -0.300819          -0.226303        -0.66237     0"
      ]
     },
     "execution_count": 7,
     "metadata": {},
     "output_type": "execute_result"
    }
   ],
   "source": [
    "df.head()"
   ]
  },
  {
   "cell_type": "code",
   "execution_count": 8,
   "metadata": {},
   "outputs": [
    {
     "data": {
      "image/png": "[encoded data removed]",
      "text/plain": [
       "<matplotlib.figure.Figure at 0x96d77d0>"
      ]
     },
     "metadata": {},
     "output_type": "display_data"
    }
   ],
   "source": [
    "plt.subplot(2,2,1)\n",
    "df.boxplot(\"year\")\n",
    "plt.subplot(2,2,2)\n",
    "df.boxplot(\"Weighted_Price\")\n",
    "plt.subplot(2,2,3)\n",
    "df.boxplot(\"Volume_(BTC)\")\n",
    "plt.subplot(2,2,4)\n",
    "df.boxplot(\"Volume_(Currency)\")\n",
    "plt.show()"
   ]
  },
  {
   "cell_type": "markdown",
   "metadata": {},
   "source": [
    "### Create dataset format\n",
    "The model needs to look back for the next prediction. Therefore, let's make it look a certain amount N of data points. "
   ]
  },
  {
   "cell_type": "code",
   "execution_count": 9,
   "metadata": {
    "collapsed": true
   },
   "outputs": [],
   "source": [
    "# Hyperparameter\n",
    "data_points_to_look_back = 10"
   ]
  },
  {
   "cell_type": "code",
   "execution_count": 10,
   "metadata": {
    "collapsed": true
   },
   "outputs": [],
   "source": [
    "# Aux variables\n",
    "start_idx = 0\n",
    "end_idx = data_points_to_look_back\n",
    "# Create the dataset\n",
    "x_data = []\n",
    "y_data = []\n",
    "for i in range(data_points_to_look_back, df.shape[0]-100000):\n",
    "    # Append data\n",
    "    x_data.append(df[\"Weighted_Price\"].iloc[start_idx:end_idx])\n",
    "    y_data.append(df[\"Weighted_Price\"].iloc[end_idx])\n",
    "    # Update idxs\n",
    "    start_idx += 1\n",
    "    end_idx += 1"
   ]
  },
  {
   "cell_type": "code",
   "execution_count": 11,
   "metadata": {},
   "outputs": [
    {
     "name": "stdout",
     "output_type": "stream",
     "text": [
      "(1519, 10) (1519,)\n"
     ]
    }
   ],
   "source": [
    "# Convert to numpy\n",
    "x_data = np.array(x_data)\n",
    "y_data = np.array(y_data)\n",
    "# Feedback\n",
    "print(x_data.shape, y_data.shape)"
   ]
  },
  {
   "cell_type": "markdown",
   "metadata": {},
   "source": [
    "Let's print some samples."
   ]
  },
  {
   "cell_type": "code",
   "execution_count": 12,
   "metadata": {},
   "outputs": [
    {
     "data": {
      "image/png": "[encoded data removed]",
      "text/plain": [
       "<matplotlib.figure.Figure at 0x9593cf0>"
      ]
     },
     "metadata": {},
     "output_type": "display_data"
    }
   ],
   "source": [
    "random_row = int(np.random.rand()*x_data.shape[0])\n",
    "\n",
    "plt.subplot(1, 3, 1)\n",
    "plt.scatter(list(range(x_data.shape[1])), x_data[random_row, :], color = \"g\")\n",
    "plt.title(\"(Data)\")\n",
    "plt.xlabel(\"Data point index\")\n",
    "plt.ylabel(\"Weighted_Price\")\n",
    "\n",
    "plt.subplot(1, 3, 3)\n",
    "plt.scatter([0], y_data[random_row], color = \"r\")\n",
    "plt.title(\"(Prediction)\")\n",
    "plt.xlabel(\"Data point index\")\n",
    "plt.ylabel(\"Weighted_Price\")\n",
    "plt.show()"
   ]
  },
  {
   "cell_type": "markdown",
   "metadata": {},
   "source": [
    "## 2. EDA (already done)"
   ]
  },
  {
   "cell_type": "markdown",
   "metadata": {},
   "source": [
    "## 3. ML regression model"
   ]
  },
  {
   "cell_type": "markdown",
   "metadata": {},
   "source": [
    "### Let's try a simple neural network\n",
    "The neural network will look back until a certain point."
   ]
  },
  {
   "cell_type": "code",
   "execution_count": 13,
   "metadata": {},
   "outputs": [
    {
     "ename": "ModuleNotFoundError",
     "evalue": "No module named 'tensorflow'",
     "output_type": "error",
     "traceback": [
      "\u001b[1;31m---------------------------------------------------------------------------\u001b[0m",
      "\u001b[1;31mModuleNotFoundError\u001b[0m                       Traceback (most recent call last)",
      "\u001b[1;32m<ipython-input-13-e3647cc7047e>\u001b[0m in \u001b[0;36m<module>\u001b[1;34m()\u001b[0m\n\u001b[0;32m      1\u001b[0m \u001b[1;31m# Tensorflow\u001b[0m\u001b[1;33m\u001b[0m\u001b[1;33m\u001b[0m\u001b[0m\n\u001b[1;32m----> 2\u001b[1;33m \u001b[1;32mfrom\u001b[0m \u001b[0mtensorflow\u001b[0m\u001b[1;33m.\u001b[0m\u001b[0mpython\u001b[0m\u001b[1;33m.\u001b[0m\u001b[0mframework\u001b[0m \u001b[1;32mimport\u001b[0m \u001b[0mops\u001b[0m\u001b[1;33m\u001b[0m\u001b[0m\n\u001b[0m\u001b[0;32m      3\u001b[0m \u001b[1;31m# Own models\u001b[0m\u001b[1;33m\u001b[0m\u001b[1;33m\u001b[0m\u001b[0m\n\u001b[0;32m      4\u001b[0m \u001b[1;32mfrom\u001b[0m \u001b[0mtensorflowModelsForCryptotrading\u001b[0m \u001b[1;32mimport\u001b[0m \u001b[1;33m*\u001b[0m\u001b[1;33m\u001b[0m\u001b[0m\n\u001b[0;32m      5\u001b[0m \u001b[1;33m\u001b[0m\u001b[0m\n",
      "\u001b[1;31mModuleNotFoundError\u001b[0m: No module named 'tensorflow'"
     ]
    }
   ],
   "source": [
    "# Tensorflow\n",
    "from tensorflow.python.framework import ops\n",
    "# Own models\n",
    "from tensorflowModelsForCryptotrading import *\n",
    "\n",
    "# Create neural net instance\n",
    "nn = VanillaNeuralNetwork(x = x_data,\n",
    "                            y = y_data,\n",
    "                            layers = 4,\n",
    "                            neurons = [data_points_to_look_back, 20, 20, 1],\n",
    "                            learningRate = 0.001,\n",
    "                            epochs = 1000)"
   ]
  },
  {
   "cell_type": "code",
   "execution_count": null,
   "metadata": {
    "collapsed": true
   },
   "outputs": [],
   "source": []
  },
  {
   "cell_type": "markdown",
   "metadata": {},
   "source": [
    "## Conclussions"
   ]
  },
  {
   "cell_type": "code",
   "execution_count": null,
   "metadata": {
    "collapsed": true
   },
   "outputs": [],
   "source": []
  }
 ],
 "metadata": {
  "kernelspec": {
   "display_name": "Python 3",
   "language": "python",
   "name": "python3"
  },
  "language_info": {
   "codemirror_mode": {
    "name": "ipython",
    "version": 3
   },
   "file_extension": ".py",
   "mimetype": "text/x-python",
   "name": "python",
   "nbconvert_exporter": "python",
   "pygments_lexer": "ipython3",
   "version": "3.6.1"
  }
 },
 "nbformat": 4,
 "nbformat_minor": 2
}
